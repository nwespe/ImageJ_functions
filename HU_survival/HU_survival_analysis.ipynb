{
 "cells": [
  {
   "cell_type": "code",
   "execution_count": 1,
   "metadata": {
    "collapsed": false
   },
   "outputs": [
    {
     "name": "stdout",
     "output_type": "stream",
     "text": [
      "Populating the interactive namespace from numpy and matplotlib\n"
     ]
    }
   ],
   "source": [
    "%pylab inline"
   ]
  },
  {
   "cell_type": "code",
   "execution_count": 2,
   "metadata": {
    "collapsed": true
   },
   "outputs": [],
   "source": [
    "import pandas as pd\n",
    "import seaborn as sns\n",
    "sns.set(style=\"ticks\")\n",
    "import numpy as np\n",
    "from scipy import stats"
   ]
  },
  {
   "cell_type": "code",
   "execution_count": 3,
   "metadata": {
    "collapsed": true
   },
   "outputs": [],
   "source": [
    "strain = '116A'"
   ]
  },
  {
   "cell_type": "code",
   "execution_count": 4,
   "metadata": {
    "collapsed": false
   },
   "outputs": [],
   "source": [
    "data = pd.read_csv('/Users/nwespe/Dropbox/Research - Data/PG HU Experiments/HU_results/'+strain+'_results.csv', converters ={'Date': lambda x: str(x), 'Strain': lambda x: str(x)})"
   ]
  },
  {
   "cell_type": "code",
   "execution_count": 5,
   "metadata": {
    "collapsed": true
   },
   "outputs": [],
   "source": [
    "data['Strain'] = strain"
   ]
  },
  {
   "cell_type": "code",
   "execution_count": 6,
   "metadata": {
    "collapsed": false,
    "scrolled": true
   },
   "outputs": [
    {
     "data": {
      "text/html": [
       "<div>\n",
       "<table border=\"1\" class=\"dataframe\">\n",
       "  <thead>\n",
       "    <tr style=\"text-align: right;\">\n",
       "      <th></th>\n",
       "      <th>Unnamed: 0</th>\n",
       "      <th></th>\n",
       "      <th>Area</th>\n",
       "      <th>Dilution</th>\n",
       "      <th>Date</th>\n",
       "      <th>Well</th>\n",
       "      <th>Strain</th>\n",
       "      <th>Condition</th>\n",
       "      <th>Time</th>\n",
       "    </tr>\n",
       "  </thead>\n",
       "  <tbody>\n",
       "    <tr>\n",
       "      <th>0</th>\n",
       "      <td>0</td>\n",
       "      <td>1</td>\n",
       "      <td>5424</td>\n",
       "      <td>1</td>\n",
       "      <td>20160519</td>\n",
       "      <td>G5</td>\n",
       "      <td>116A</td>\n",
       "      <td>YPD</td>\n",
       "      <td>start</td>\n",
       "    </tr>\n",
       "    <tr>\n",
       "      <th>1</th>\n",
       "      <td>1</td>\n",
       "      <td>2</td>\n",
       "      <td>4145</td>\n",
       "      <td>2</td>\n",
       "      <td>20160519</td>\n",
       "      <td>G5</td>\n",
       "      <td>116A</td>\n",
       "      <td>YPD</td>\n",
       "      <td>start</td>\n",
       "    </tr>\n",
       "    <tr>\n",
       "      <th>2</th>\n",
       "      <td>2</td>\n",
       "      <td>3</td>\n",
       "      <td>3886</td>\n",
       "      <td>3</td>\n",
       "      <td>20160519</td>\n",
       "      <td>G5</td>\n",
       "      <td>116A</td>\n",
       "      <td>YPD</td>\n",
       "      <td>start</td>\n",
       "    </tr>\n",
       "    <tr>\n",
       "      <th>3</th>\n",
       "      <td>3</td>\n",
       "      <td>4</td>\n",
       "      <td>2123</td>\n",
       "      <td>4</td>\n",
       "      <td>20160519</td>\n",
       "      <td>G5</td>\n",
       "      <td>116A</td>\n",
       "      <td>YPD</td>\n",
       "      <td>start</td>\n",
       "    </tr>\n",
       "    <tr>\n",
       "      <th>4</th>\n",
       "      <td>4</td>\n",
       "      <td>5</td>\n",
       "      <td>2577</td>\n",
       "      <td>1</td>\n",
       "      <td>20160519</td>\n",
       "      <td>G5</td>\n",
       "      <td>116A</td>\n",
       "      <td>YPD</td>\n",
       "      <td>end</td>\n",
       "    </tr>\n",
       "  </tbody>\n",
       "</table>\n",
       "</div>"
      ],
      "text/plain": [
       "   Unnamed: 0     Area  Dilution      Date Well Strain Condition   Time\n",
       "0           0  1  5424         1  20160519   G5   116A       YPD  start\n",
       "1           1  2  4145         2  20160519   G5   116A       YPD  start\n",
       "2           2  3  3886         3  20160519   G5   116A       YPD  start\n",
       "3           3  4  2123         4  20160519   G5   116A       YPD  start\n",
       "4           4  5  2577         1  20160519   G5   116A       YPD    end"
      ]
     },
     "execution_count": 6,
     "metadata": {},
     "output_type": "execute_result"
    }
   ],
   "source": [
    "data[:5]"
   ]
  },
  {
   "cell_type": "code",
   "execution_count": 7,
   "metadata": {
    "collapsed": false
   },
   "outputs": [],
   "source": [
    "start = data[(data.Time == 'start')]\n",
    "end = data[(data.Time == 'end')]\n",
    "results = pd.merge(start, end, how='left', on=('Date', 'Well', 'Strain', 'Condition', 'Dilution'), sort=False, \\\n",
    "                   suffixes=['_start', '_end'])\n",
    "results = results[['Date', 'Well', 'Strain', 'Condition', 'Dilution', 'Area_start', 'Area_end']]\n",
    "results['Ratio'] = results['Area_end'] / results['Area_start']\n",
    "results['Sample'] = results['Date'] + ' ' + results['Well']"
   ]
  },
  {
   "cell_type": "code",
   "execution_count": 8,
   "metadata": {
    "collapsed": false
   },
   "outputs": [
    {
     "data": {
      "text/html": [
       "<div>\n",
       "<table border=\"1\" class=\"dataframe\">\n",
       "  <thead>\n",
       "    <tr style=\"text-align: right;\">\n",
       "      <th></th>\n",
       "      <th>Date</th>\n",
       "      <th>Well</th>\n",
       "      <th>Strain</th>\n",
       "      <th>Condition</th>\n",
       "      <th>Dilution</th>\n",
       "      <th>Area_start</th>\n",
       "      <th>Area_end</th>\n",
       "      <th>Ratio</th>\n",
       "      <th>Sample</th>\n",
       "    </tr>\n",
       "  </thead>\n",
       "  <tbody>\n",
       "    <tr>\n",
       "      <th>128</th>\n",
       "      <td>20160614</td>\n",
       "      <td>G1</td>\n",
       "      <td>116A</td>\n",
       "      <td>YPD</td>\n",
       "      <td>1</td>\n",
       "      <td>6942</td>\n",
       "      <td>5682</td>\n",
       "      <td>0.818496</td>\n",
       "      <td>20160614 G1</td>\n",
       "    </tr>\n",
       "    <tr>\n",
       "      <th>129</th>\n",
       "      <td>20160614</td>\n",
       "      <td>G1</td>\n",
       "      <td>116A</td>\n",
       "      <td>YPD</td>\n",
       "      <td>2</td>\n",
       "      <td>5809</td>\n",
       "      <td>4778</td>\n",
       "      <td>0.822517</td>\n",
       "      <td>20160614 G1</td>\n",
       "    </tr>\n",
       "    <tr>\n",
       "      <th>130</th>\n",
       "      <td>20160614</td>\n",
       "      <td>G1</td>\n",
       "      <td>116A</td>\n",
       "      <td>YPD</td>\n",
       "      <td>3</td>\n",
       "      <td>5318</td>\n",
       "      <td>2091</td>\n",
       "      <td>0.393193</td>\n",
       "      <td>20160614 G1</td>\n",
       "    </tr>\n",
       "    <tr>\n",
       "      <th>131</th>\n",
       "      <td>20160614</td>\n",
       "      <td>G1</td>\n",
       "      <td>116A</td>\n",
       "      <td>YPD</td>\n",
       "      <td>4</td>\n",
       "      <td>3622</td>\n",
       "      <td>3388</td>\n",
       "      <td>0.935395</td>\n",
       "      <td>20160614 G1</td>\n",
       "    </tr>\n",
       "    <tr>\n",
       "      <th>132</th>\n",
       "      <td>20160614</td>\n",
       "      <td>G2</td>\n",
       "      <td>116A</td>\n",
       "      <td>YPD</td>\n",
       "      <td>1</td>\n",
       "      <td>6242</td>\n",
       "      <td>5723</td>\n",
       "      <td>0.916854</td>\n",
       "      <td>20160614 G2</td>\n",
       "    </tr>\n",
       "    <tr>\n",
       "      <th>133</th>\n",
       "      <td>20160614</td>\n",
       "      <td>G2</td>\n",
       "      <td>116A</td>\n",
       "      <td>YPD</td>\n",
       "      <td>2</td>\n",
       "      <td>5377</td>\n",
       "      <td>4527</td>\n",
       "      <td>0.841919</td>\n",
       "      <td>20160614 G2</td>\n",
       "    </tr>\n",
       "    <tr>\n",
       "      <th>134</th>\n",
       "      <td>20160614</td>\n",
       "      <td>G2</td>\n",
       "      <td>116A</td>\n",
       "      <td>YPD</td>\n",
       "      <td>3</td>\n",
       "      <td>5046</td>\n",
       "      <td>1723</td>\n",
       "      <td>0.341459</td>\n",
       "      <td>20160614 G2</td>\n",
       "    </tr>\n",
       "    <tr>\n",
       "      <th>135</th>\n",
       "      <td>20160614</td>\n",
       "      <td>G2</td>\n",
       "      <td>116A</td>\n",
       "      <td>YPD</td>\n",
       "      <td>4</td>\n",
       "      <td>2886</td>\n",
       "      <td>67</td>\n",
       "      <td>0.023216</td>\n",
       "      <td>20160614 G2</td>\n",
       "    </tr>\n",
       "    <tr>\n",
       "      <th>136</th>\n",
       "      <td>20160614</td>\n",
       "      <td>H1</td>\n",
       "      <td>116A</td>\n",
       "      <td>0.5 M NaCl</td>\n",
       "      <td>1</td>\n",
       "      <td>6726</td>\n",
       "      <td>5599</td>\n",
       "      <td>0.832441</td>\n",
       "      <td>20160614 H1</td>\n",
       "    </tr>\n",
       "    <tr>\n",
       "      <th>137</th>\n",
       "      <td>20160614</td>\n",
       "      <td>H1</td>\n",
       "      <td>116A</td>\n",
       "      <td>0.5 M NaCl</td>\n",
       "      <td>2</td>\n",
       "      <td>6092</td>\n",
       "      <td>5415</td>\n",
       "      <td>0.888871</td>\n",
       "      <td>20160614 H1</td>\n",
       "    </tr>\n",
       "    <tr>\n",
       "      <th>138</th>\n",
       "      <td>20160614</td>\n",
       "      <td>H1</td>\n",
       "      <td>116A</td>\n",
       "      <td>0.5 M NaCl</td>\n",
       "      <td>3</td>\n",
       "      <td>5646</td>\n",
       "      <td>4407</td>\n",
       "      <td>0.780553</td>\n",
       "      <td>20160614 H1</td>\n",
       "    </tr>\n",
       "    <tr>\n",
       "      <th>139</th>\n",
       "      <td>20160614</td>\n",
       "      <td>H1</td>\n",
       "      <td>116A</td>\n",
       "      <td>0.5 M NaCl</td>\n",
       "      <td>4</td>\n",
       "      <td>3924</td>\n",
       "      <td>1180</td>\n",
       "      <td>0.300714</td>\n",
       "      <td>20160614 H1</td>\n",
       "    </tr>\n",
       "    <tr>\n",
       "      <th>140</th>\n",
       "      <td>20160614</td>\n",
       "      <td>H2</td>\n",
       "      <td>116A</td>\n",
       "      <td>0.5 M NaCl</td>\n",
       "      <td>1</td>\n",
       "      <td>6012</td>\n",
       "      <td>5402</td>\n",
       "      <td>0.898536</td>\n",
       "      <td>20160614 H2</td>\n",
       "    </tr>\n",
       "    <tr>\n",
       "      <th>141</th>\n",
       "      <td>20160614</td>\n",
       "      <td>H2</td>\n",
       "      <td>116A</td>\n",
       "      <td>0.5 M NaCl</td>\n",
       "      <td>2</td>\n",
       "      <td>5570</td>\n",
       "      <td>5021</td>\n",
       "      <td>0.901436</td>\n",
       "      <td>20160614 H2</td>\n",
       "    </tr>\n",
       "    <tr>\n",
       "      <th>142</th>\n",
       "      <td>20160614</td>\n",
       "      <td>H2</td>\n",
       "      <td>116A</td>\n",
       "      <td>0.5 M NaCl</td>\n",
       "      <td>3</td>\n",
       "      <td>5447</td>\n",
       "      <td>4064</td>\n",
       "      <td>0.746099</td>\n",
       "      <td>20160614 H2</td>\n",
       "    </tr>\n",
       "    <tr>\n",
       "      <th>143</th>\n",
       "      <td>20160614</td>\n",
       "      <td>H2</td>\n",
       "      <td>116A</td>\n",
       "      <td>0.5 M NaCl</td>\n",
       "      <td>4</td>\n",
       "      <td>3854</td>\n",
       "      <td>1459</td>\n",
       "      <td>0.378568</td>\n",
       "      <td>20160614 H2</td>\n",
       "    </tr>\n",
       "  </tbody>\n",
       "</table>\n",
       "</div>"
      ],
      "text/plain": [
       "         Date Well Strain   Condition  Dilution  Area_start  Area_end  \\\n",
       "128  20160614   G1   116A         YPD         1        6942      5682   \n",
       "129  20160614   G1   116A         YPD         2        5809      4778   \n",
       "130  20160614   G1   116A         YPD         3        5318      2091   \n",
       "131  20160614   G1   116A         YPD         4        3622      3388   \n",
       "132  20160614   G2   116A         YPD         1        6242      5723   \n",
       "133  20160614   G2   116A         YPD         2        5377      4527   \n",
       "134  20160614   G2   116A         YPD         3        5046      1723   \n",
       "135  20160614   G2   116A         YPD         4        2886        67   \n",
       "136  20160614   H1   116A  0.5 M NaCl         1        6726      5599   \n",
       "137  20160614   H1   116A  0.5 M NaCl         2        6092      5415   \n",
       "138  20160614   H1   116A  0.5 M NaCl         3        5646      4407   \n",
       "139  20160614   H1   116A  0.5 M NaCl         4        3924      1180   \n",
       "140  20160614   H2   116A  0.5 M NaCl         1        6012      5402   \n",
       "141  20160614   H2   116A  0.5 M NaCl         2        5570      5021   \n",
       "142  20160614   H2   116A  0.5 M NaCl         3        5447      4064   \n",
       "143  20160614   H2   116A  0.5 M NaCl         4        3854      1459   \n",
       "\n",
       "        Ratio       Sample  \n",
       "128  0.818496  20160614 G1  \n",
       "129  0.822517  20160614 G1  \n",
       "130  0.393193  20160614 G1  \n",
       "131  0.935395  20160614 G1  \n",
       "132  0.916854  20160614 G2  \n",
       "133  0.841919  20160614 G2  \n",
       "134  0.341459  20160614 G2  \n",
       "135  0.023216  20160614 G2  \n",
       "136  0.832441  20160614 H1  \n",
       "137  0.888871  20160614 H1  \n",
       "138  0.780553  20160614 H1  \n",
       "139  0.300714  20160614 H1  \n",
       "140  0.898536  20160614 H2  \n",
       "141  0.901436  20160614 H2  \n",
       "142  0.746099  20160614 H2  \n",
       "143  0.378568  20160614 H2  "
      ]
     },
     "execution_count": 8,
     "metadata": {},
     "output_type": "execute_result"
    }
   ],
   "source": [
    "results_0614 = results[results['Date']=='20160614'] #data = data[data.strain != 'blank']\n",
    "results_0614"
   ]
  },
  {
   "cell_type": "code",
   "execution_count": 9,
   "metadata": {
    "collapsed": true
   },
   "outputs": [],
   "source": [
    "results = results[results['Date']!='20160614']"
   ]
  },
  {
   "cell_type": "code",
   "execution_count": 15,
   "metadata": {
    "collapsed": false,
    "scrolled": false
   },
   "outputs": [
    {
     "data": {
      "text/plain": [
       "<seaborn.axisgrid.FacetGrid at 0x11d1dfe50>"
      ]
     },
     "execution_count": 15,
     "metadata": {},
     "output_type": "execute_result"
    },
    {
     "data": {
      "image/png": "[encoded data removed]",
      "text/plain": [
       "<matplotlib.figure.Figure at 0x119d5a710>"
      ]
     },
     "metadata": {},
     "output_type": "display_data"
    }
   ],
   "source": [
    "g = sns.factorplot(x='Dilution', y='Ratio', hue='Date', col='Condition', data=results, \n",
    "                   legend=False, col_wrap=2)\n",
    "(g.set(ylim=(-0.5,1.5)))"
   ]
  },
  {
   "cell_type": "code",
   "execution_count": 13,
   "metadata": {
    "collapsed": false
   },
   "outputs": [
    {
     "data": {
      "text/plain": [
       "<seaborn.axisgrid.FacetGrid at 0x119d6e5d0>"
      ]
     },
     "execution_count": 13,
     "metadata": {},
     "output_type": "execute_result"
    },
    {
     "data": {
      "image/png": "[encoded data removed]",
      "text/plain": [
       "<matplotlib.figure.Figure at 0x11bf0c890>"
      ]
     },
     "metadata": {},
     "output_type": "display_data"
    }
   ],
   "source": [
    "g = sns.lmplot(x='Area_start', y='Ratio', hue='Dilution', col='Condition', data=results, \n",
    "               ci=None, fit_reg=False, col_wrap=2)\n",
    "(g.set(ylim=(-0.5,1.5)))"
   ]
  },
  {
   "cell_type": "code",
   "execution_count": 14,
   "metadata": {
    "collapsed": false
   },
   "outputs": [
    {
     "data": {
      "text/plain": [
       "<seaborn.axisgrid.FacetGrid at 0x11c690350>"
      ]
     },
     "execution_count": 14,
     "metadata": {},
     "output_type": "execute_result"
    },
    {
     "data": {
      "image/png": "[encoded data removed]",
      "text/plain": [
       "<matplotlib.figure.Figure at 0x11c6900d0>"
      ]
     },
     "metadata": {},
     "output_type": "display_data"
    }
   ],
   "source": [
    "g = sns.factorplot(x='Dilution', y='Ratio', hue='Dilution', col='Condition', data=results)\n",
    "(g.set(ylim=(-0.5,2)))"
   ]
  },
  {
   "cell_type": "code",
   "execution_count": 16,
   "metadata": {
    "collapsed": false
   },
   "outputs": [
    {
     "name": "stdout",
     "output_type": "stream",
     "text": [
      "{'20160610 F4': [2], '20160608 H1': [2], '20160608 H2': [2], '20160519 H6': [2], '20160519 H5': [2], '20160610 H4': [4], '20160608 G1': [1], '20160601 F3': [3], '20160608 G2': [1], '20160601 F4': [4], '20160622 H1': [2], '20160610 F3': [2], '20160521 H12': [0], '20160622 H2': [2], '20160521 H11': [0], '20160622 G1': [1], '20160601 H3': [0], '20160601 H4': [1], '20160622 G2': [1], '20160521 F11': [2], '20160521 F12': [2], '20160521 G11': [0], '20160521 G12': [0], '20160601 G4': [1], '20160610 G3': [4], '20160601 G3': [0], '20160601 E4': [0], '20160519 G6': [0], '20160521 E12': [0], '20160521 E11': [1], '20160601 E3': [1], '20160610 E3': [2], '20160610 H3': [4], '20160610 E4': [2], '20160519 G5': [0], '20160610 G4': [4]}\n"
     ]
    }
   ],
   "source": [
    "grouped = results.groupby('Sample', sort=False)\n",
    "max_dilutions = {}\n",
    "for name, group in grouped:\n",
    "    dils = group['Dilution'].tolist()\n",
    "    max_dil = 0\n",
    "    for d in dils:\n",
    "        ratio = group.Ratio[group.Dilution == d].iat[0]\n",
    "        if ratio >= 0.5:\n",
    "            max_dil = d\n",
    "        else: break\n",
    "    max_dilutions[name] = [max_dil]\n",
    "print max_dilutions"
   ]
  },
  {
   "cell_type": "code",
   "execution_count": null,
   "metadata": {
    "collapsed": true
   },
   "outputs": [],
   "source": [
    ""
   ]
  },
  {
   "cell_type": "code",
   "execution_count": 17,
   "metadata": {
    "collapsed": false
   },
   "outputs": [
    {
     "data": {
      "text/html": [
       "<div>\n",
       "<table border=\"1\" class=\"dataframe\">\n",
       "  <thead>\n",
       "    <tr style=\"text-align: right;\">\n",
       "      <th></th>\n",
       "      <th>Sample</th>\n",
       "      <th>Max Dilution</th>\n",
       "    </tr>\n",
       "  </thead>\n",
       "  <tbody>\n",
       "    <tr>\n",
       "      <th>0</th>\n",
       "      <td>20160610 F4</td>\n",
       "      <td>2</td>\n",
       "    </tr>\n",
       "    <tr>\n",
       "      <th>1</th>\n",
       "      <td>20160608 H1</td>\n",
       "      <td>2</td>\n",
       "    </tr>\n",
       "    <tr>\n",
       "      <th>2</th>\n",
       "      <td>20160608 H2</td>\n",
       "      <td>2</td>\n",
       "    </tr>\n",
       "    <tr>\n",
       "      <th>3</th>\n",
       "      <td>20160519 H6</td>\n",
       "      <td>2</td>\n",
       "    </tr>\n",
       "    <tr>\n",
       "      <th>4</th>\n",
       "      <td>20160519 H5</td>\n",
       "      <td>2</td>\n",
       "    </tr>\n",
       "  </tbody>\n",
       "</table>\n",
       "</div>"
      ],
      "text/plain": [
       "        Sample  Max Dilution\n",
       "0  20160610 F4             2\n",
       "1  20160608 H1             2\n",
       "2  20160608 H2             2\n",
       "3  20160519 H6             2\n",
       "4  20160519 H5             2"
      ]
     },
     "execution_count": 17,
     "metadata": {},
     "output_type": "execute_result"
    }
   ],
   "source": [
    "dilution_df = pd.DataFrame.from_dict(max_dilutions, orient='index')\n",
    "dilution_df.index.name = 'Sample'\n",
    "dilution_df = dilution_df.rename(columns = {0:'Max Dilution'})\n",
    "dilution_df.reset_index(level=['Sample'], inplace=True)\n",
    "dilution_df[:5]"
   ]
  },
  {
   "cell_type": "code",
   "execution_count": 18,
   "metadata": {
    "collapsed": false
   },
   "outputs": [
    {
     "name": "stderr",
     "output_type": "stream",
     "text": [
      "//anaconda/lib/python2.7/site-packages/pandas/util/decorators.py:91: SettingWithCopyWarning: \n",
      "A value is trying to be set on a copy of a slice from a DataFrame\n",
      "\n",
      "See the caveats in the documentation: http://pandas.pydata.org/pandas-docs/stable/indexing.html#indexing-view-versus-copy\n",
      "  return func(*args, **kwargs)\n"
     ]
    },
    {
     "data": {
      "text/html": [
       "<div>\n",
       "<table border=\"1\" class=\"dataframe\">\n",
       "  <thead>\n",
       "    <tr style=\"text-align: right;\">\n",
       "      <th></th>\n",
       "      <th>Sample</th>\n",
       "      <th>Date</th>\n",
       "      <th>Well</th>\n",
       "      <th>Strain</th>\n",
       "      <th>Condition</th>\n",
       "    </tr>\n",
       "  </thead>\n",
       "  <tbody>\n",
       "    <tr>\n",
       "      <th>0</th>\n",
       "      <td>20160519 G5</td>\n",
       "      <td>20160519</td>\n",
       "      <td>G5</td>\n",
       "      <td>116A</td>\n",
       "      <td>YPD</td>\n",
       "    </tr>\n",
       "    <tr>\n",
       "      <th>4</th>\n",
       "      <td>20160519 G6</td>\n",
       "      <td>20160519</td>\n",
       "      <td>G6</td>\n",
       "      <td>116A</td>\n",
       "      <td>YPD</td>\n",
       "    </tr>\n",
       "    <tr>\n",
       "      <th>8</th>\n",
       "      <td>20160519 H5</td>\n",
       "      <td>20160519</td>\n",
       "      <td>H5</td>\n",
       "      <td>116A</td>\n",
       "      <td>0.5 M NaCl</td>\n",
       "    </tr>\n",
       "    <tr>\n",
       "      <th>12</th>\n",
       "      <td>20160519 H6</td>\n",
       "      <td>20160519</td>\n",
       "      <td>H6</td>\n",
       "      <td>116A</td>\n",
       "      <td>0.5 M NaCl</td>\n",
       "    </tr>\n",
       "  </tbody>\n",
       "</table>\n",
       "</div>"
      ],
      "text/plain": [
       "         Sample      Date Well Strain   Condition\n",
       "0   20160519 G5  20160519   G5   116A         YPD\n",
       "4   20160519 G6  20160519   G6   116A         YPD\n",
       "8   20160519 H5  20160519   H5   116A  0.5 M NaCl\n",
       "12  20160519 H6  20160519   H6   116A  0.5 M NaCl"
      ]
     },
     "execution_count": 18,
     "metadata": {},
     "output_type": "execute_result"
    }
   ],
   "source": [
    "info = results[['Sample', 'Date', 'Well', 'Strain', 'Condition']]\n",
    "info.drop_duplicates(inplace=True)\n",
    "info[:4]"
   ]
  },
  {
   "cell_type": "code",
   "execution_count": 19,
   "metadata": {
    "collapsed": false
   },
   "outputs": [
    {
     "data": {
      "text/html": [
       "<div>\n",
       "<table border=\"1\" class=\"dataframe\">\n",
       "  <thead>\n",
       "    <tr style=\"text-align: right;\">\n",
       "      <th></th>\n",
       "      <th>Sample</th>\n",
       "      <th>Max Dilution</th>\n",
       "      <th>Date</th>\n",
       "      <th>Well</th>\n",
       "      <th>Strain</th>\n",
       "      <th>Condition</th>\n",
       "    </tr>\n",
       "  </thead>\n",
       "  <tbody>\n",
       "    <tr>\n",
       "      <th>0</th>\n",
       "      <td>20160519 G5</td>\n",
       "      <td>0</td>\n",
       "      <td>20160519</td>\n",
       "      <td>G5</td>\n",
       "      <td>116A</td>\n",
       "      <td>YPD</td>\n",
       "    </tr>\n",
       "    <tr>\n",
       "      <th>1</th>\n",
       "      <td>20160519 G6</td>\n",
       "      <td>0</td>\n",
       "      <td>20160519</td>\n",
       "      <td>G6</td>\n",
       "      <td>116A</td>\n",
       "      <td>YPD</td>\n",
       "    </tr>\n",
       "    <tr>\n",
       "      <th>2</th>\n",
       "      <td>20160519 H5</td>\n",
       "      <td>2</td>\n",
       "      <td>20160519</td>\n",
       "      <td>H5</td>\n",
       "      <td>116A</td>\n",
       "      <td>0.5 M NaCl</td>\n",
       "    </tr>\n",
       "    <tr>\n",
       "      <th>3</th>\n",
       "      <td>20160519 H6</td>\n",
       "      <td>2</td>\n",
       "      <td>20160519</td>\n",
       "      <td>H6</td>\n",
       "      <td>116A</td>\n",
       "      <td>0.5 M NaCl</td>\n",
       "    </tr>\n",
       "    <tr>\n",
       "      <th>4</th>\n",
       "      <td>20160521 E11</td>\n",
       "      <td>1</td>\n",
       "      <td>20160521</td>\n",
       "      <td>E11</td>\n",
       "      <td>116A</td>\n",
       "      <td>YPD</td>\n",
       "    </tr>\n",
       "  </tbody>\n",
       "</table>\n",
       "</div>"
      ],
      "text/plain": [
       "         Sample  Max Dilution      Date Well Strain   Condition\n",
       "0   20160519 G5             0  20160519   G5   116A         YPD\n",
       "1   20160519 G6             0  20160519   G6   116A         YPD\n",
       "2   20160519 H5             2  20160519   H5   116A  0.5 M NaCl\n",
       "3   20160519 H6             2  20160519   H6   116A  0.5 M NaCl\n",
       "4  20160521 E11             1  20160521  E11   116A         YPD"
      ]
     },
     "execution_count": 19,
     "metadata": {},
     "output_type": "execute_result"
    }
   ],
   "source": [
    "max_dilution_results = pd.merge(dilution_df, info, how='inner', on=('Sample'), sort=True)\n",
    "max_dilution_results[:5]"
   ]
  },
  {
   "cell_type": "code",
   "execution_count": 1,
   "metadata": {
    "collapsed": false
   },
   "outputs": [
    {
     "ename": "NameError",
     "evalue": "name 'sns' is not defined",
     "traceback": [
      "\u001b[0;31m---------------------------------------------------------------------------\u001b[0m",
      "\u001b[0;31mNameError\u001b[0m                                 Traceback (most recent call last)",
      "\u001b[0;32m<ipython-input-1-7fbbe622169e>\u001b[0m in \u001b[0;36m<module>\u001b[0;34m()\u001b[0m\n\u001b[0;32m----> 1\u001b[0;31m \u001b[0mg\u001b[0m \u001b[0;34m=\u001b[0m \u001b[0msns\u001b[0m\u001b[0;34m.\u001b[0m\u001b[0mboxplot\u001b[0m\u001b[0;34m(\u001b[0m\u001b[0mx\u001b[0m\u001b[0;34m=\u001b[0m\u001b[0;34m'Condition'\u001b[0m\u001b[0;34m,\u001b[0m \u001b[0my\u001b[0m\u001b[0;34m=\u001b[0m\u001b[0;34m'Max Dilution'\u001b[0m\u001b[0;34m,\u001b[0m \u001b[0mdata\u001b[0m\u001b[0;34m=\u001b[0m\u001b[0mmax_dilution_results\u001b[0m\u001b[0;34m)\u001b[0m\u001b[0;34m\u001b[0m\u001b[0m\n\u001b[0m\u001b[1;32m      2\u001b[0m \u001b[0mg\u001b[0m \u001b[0;34m=\u001b[0m \u001b[0msns\u001b[0m\u001b[0;34m.\u001b[0m\u001b[0mswarmplot\u001b[0m\u001b[0;34m(\u001b[0m\u001b[0mx\u001b[0m\u001b[0;34m=\u001b[0m\u001b[0;34m'Condition'\u001b[0m\u001b[0;34m,\u001b[0m \u001b[0my\u001b[0m\u001b[0;34m=\u001b[0m\u001b[0;34m'Max Dilution'\u001b[0m\u001b[0;34m,\u001b[0m \u001b[0mhue\u001b[0m\u001b[0;34m=\u001b[0m\u001b[0;34m'Date'\u001b[0m\u001b[0;34m,\u001b[0m \u001b[0mdata\u001b[0m\u001b[0;34m=\u001b[0m\u001b[0mmax_dilution_results\u001b[0m\u001b[0;34m)\u001b[0m \u001b[0;31m#, color=\"black\")\u001b[0m\u001b[0;34m\u001b[0m\u001b[0m\n\u001b[1;32m      3\u001b[0m \u001b[0mg\u001b[0m\u001b[0;34m.\u001b[0m\u001b[0mlegend\u001b[0m\u001b[0;34m(\u001b[0m\u001b[0mbbox_to_anchor\u001b[0m\u001b[0;34m=\u001b[0m\u001b[0;34m(\u001b[0m\u001b[0;36m1.2\u001b[0m\u001b[0;34m,\u001b[0m \u001b[0;36m1\u001b[0m\u001b[0;34m)\u001b[0m\u001b[0;34m)\u001b[0m\u001b[0;34m\u001b[0m\u001b[0m\n\u001b[1;32m      4\u001b[0m \u001b[0;34m(\u001b[0m\u001b[0mg\u001b[0m\u001b[0;34m.\u001b[0m\u001b[0mset\u001b[0m\u001b[0;34m(\u001b[0m\u001b[0mylim\u001b[0m\u001b[0;34m=\u001b[0m\u001b[0;34m(\u001b[0m\u001b[0;34m-\u001b[0m\u001b[0;36m0.5\u001b[0m\u001b[0;34m,\u001b[0m\u001b[0;36m4.5\u001b[0m\u001b[0;34m)\u001b[0m\u001b[0;34m,\u001b[0m \u001b[0mtitle\u001b[0m\u001b[0;34m=\u001b[0m\u001b[0mstrain\u001b[0m\u001b[0;34m)\u001b[0m\u001b[0;34m)\u001b[0m\u001b[0;34m\u001b[0m\u001b[0m\n\u001b[1;32m      5\u001b[0m \u001b[0mplt\u001b[0m\u001b[0;34m.\u001b[0m\u001b[0mxlabel\u001b[0m\u001b[0;34m(\u001b[0m\u001b[0;34m''\u001b[0m\u001b[0;34m)\u001b[0m\u001b[0;34m\u001b[0m\u001b[0m\n",
      "\u001b[0;31mNameError\u001b[0m: name 'sns' is not defined"
     ],
     "output_type": "error"
    }
   ],
   "source": [
    "g = sns.boxplot(x='Condition', y='Max Dilution', data=max_dilution_results)\n",
    "g = sns.swarmplot(x='Condition', y='Max Dilution', hue='Date', data=max_dilution_results) #, color=\"black\")\n",
    "g.legend(bbox_to_anchor=(1.2, 1))\n",
    "(g.set(ylim=(-0.5,4.5), title=strain))\n",
    "plt.xlabel('')\n",
    "plt.ylabel('Max Dilution with Ratio >= 0.5')\n",
    "#plt.savefig('/Users/nwespe/Desktop/'+strain+'_HU_survival.jpg', bbox_inches='tight')"
   ]
  },
  {
   "cell_type": "code",
   "execution_count": 67,
   "metadata": {
    "collapsed": false
   },
   "outputs": [
    {
     "data": {
      "text/html": [
       "<div>\n",
       "<table border=\"1\" class=\"dataframe\">\n",
       "  <thead>\n",
       "    <tr style=\"text-align: right;\">\n",
       "      <th></th>\n",
       "      <th>Strain</th>\n",
       "      <th>N</th>\n",
       "      <th>mean</th>\n",
       "      <th>std</th>\n",
       "      <th>median</th>\n",
       "    </tr>\n",
       "    <tr>\n",
       "      <th>Condition</th>\n",
       "      <th></th>\n",
       "      <th></th>\n",
       "      <th></th>\n",
       "      <th></th>\n",
       "      <th></th>\n",
       "    </tr>\n",
       "  </thead>\n",
       "  <tbody>\n",
       "    <tr>\n",
       "      <th>YPD</th>\n",
       "      <td>116A</td>\n",
       "      <td>12</td>\n",
       "      <td>0.833333</td>\n",
       "      <td>0.717741</td>\n",
       "      <td>1.0</td>\n",
       "    </tr>\n",
       "    <tr>\n",
       "      <th>0.5 M NaCl</th>\n",
       "      <td>116A</td>\n",
       "      <td>12</td>\n",
       "      <td>2.250000</td>\n",
       "      <td>0.621582</td>\n",
       "      <td>2.0</td>\n",
       "    </tr>\n",
       "    <tr>\n",
       "      <th>0.5 M KCl</th>\n",
       "      <td>116A</td>\n",
       "      <td>6</td>\n",
       "      <td>1.500000</td>\n",
       "      <td>1.974842</td>\n",
       "      <td>0.5</td>\n",
       "    </tr>\n",
       "    <tr>\n",
       "      <th>1 M sorbitol</th>\n",
       "      <td>116A</td>\n",
       "      <td>6</td>\n",
       "      <td>1.500000</td>\n",
       "      <td>1.974842</td>\n",
       "      <td>0.5</td>\n",
       "    </tr>\n",
       "  </tbody>\n",
       "</table>\n",
       "</div>"
      ],
      "text/plain": [
       "             Strain   N      mean       std  median\n",
       "Condition                                          \n",
       "YPD            116A  12  0.833333  0.717741     1.0\n",
       "0.5 M NaCl     116A  12  2.250000  0.621582     2.0\n",
       "0.5 M KCl      116A   6  1.500000  1.974842     0.5\n",
       "1 M sorbitol   116A   6  1.500000  1.974842     0.5"
      ]
     },
     "execution_count": 67,
     "metadata": {},
     "output_type": "execute_result"
    }
   ],
   "source": [
    "max_grouped = max_dilution_results.groupby('Condition', sort=False)\n",
    "max_count = max_grouped['Max Dilution'].count()\n",
    "max_count = max_count.rename('N')\n",
    "avgs = max_grouped['Max Dilution'].agg([np.mean, np.std, np.median])\n",
    "summary = avgs.join(max_count)\n",
    "#summary.reset_index(inplace=True)\n",
    "summary['Strain'] = strain\n",
    "summary = summary[['Strain', 'N', 'mean', 'std', 'median']]\n",
    "summary"
   ]
  },
  {
   "cell_type": "code",
   "execution_count": 68,
   "metadata": {
    "collapsed": false
   },
   "outputs": [],
   "source": [
    "df = max_dilution_results.groupby(['Condition', 'Max Dilution']).size().reset_index(name='count')\n",
    "df = df.pivot(index='Condition', columns='Max Dilution', values='count')\n",
    "summary = summary.join(df)"
   ]
  },
  {
   "cell_type": "code",
   "execution_count": 71,
   "metadata": {
    "collapsed": false
   },
   "outputs": [],
   "source": [
    "summary.reset_index(inplace=True)"
   ]
  },
  {
   "cell_type": "code",
   "execution_count": 72,
   "metadata": {
    "collapsed": false
   },
   "outputs": [
    {
     "data": {
      "text/html": [
       "<div>\n",
       "<table border=\"1\" class=\"dataframe\">\n",
       "  <thead>\n",
       "    <tr style=\"text-align: right;\">\n",
       "      <th></th>\n",
       "      <th>Condition</th>\n",
       "      <th>Strain</th>\n",
       "      <th>N</th>\n",
       "      <th>mean</th>\n",
       "      <th>std</th>\n",
       "      <th>median</th>\n",
       "      <th>0</th>\n",
       "      <th>1</th>\n",
       "      <th>2</th>\n",
       "      <th>3</th>\n",
       "      <th>4</th>\n",
       "    </tr>\n",
       "  </thead>\n",
       "  <tbody>\n",
       "    <tr>\n",
       "      <th>0</th>\n",
       "      <td>YPD</td>\n",
       "      <td>116A</td>\n",
       "      <td>12</td>\n",
       "      <td>0.833333</td>\n",
       "      <td>0.717741</td>\n",
       "      <td>1.0</td>\n",
       "      <td>4.0</td>\n",
       "      <td>6.0</td>\n",
       "      <td>2.0</td>\n",
       "      <td>NaN</td>\n",
       "      <td>NaN</td>\n",
       "    </tr>\n",
       "    <tr>\n",
       "      <th>1</th>\n",
       "      <td>0.5 M NaCl</td>\n",
       "      <td>116A</td>\n",
       "      <td>12</td>\n",
       "      <td>2.250000</td>\n",
       "      <td>0.621582</td>\n",
       "      <td>2.0</td>\n",
       "      <td>NaN</td>\n",
       "      <td>NaN</td>\n",
       "      <td>10.0</td>\n",
       "      <td>1.0</td>\n",
       "      <td>1.0</td>\n",
       "    </tr>\n",
       "    <tr>\n",
       "      <th>2</th>\n",
       "      <td>0.5 M KCl</td>\n",
       "      <td>116A</td>\n",
       "      <td>6</td>\n",
       "      <td>1.500000</td>\n",
       "      <td>1.974842</td>\n",
       "      <td>0.5</td>\n",
       "      <td>3.0</td>\n",
       "      <td>1.0</td>\n",
       "      <td>NaN</td>\n",
       "      <td>NaN</td>\n",
       "      <td>2.0</td>\n",
       "    </tr>\n",
       "    <tr>\n",
       "      <th>3</th>\n",
       "      <td>1 M sorbitol</td>\n",
       "      <td>116A</td>\n",
       "      <td>6</td>\n",
       "      <td>1.500000</td>\n",
       "      <td>1.974842</td>\n",
       "      <td>0.5</td>\n",
       "      <td>3.0</td>\n",
       "      <td>1.0</td>\n",
       "      <td>NaN</td>\n",
       "      <td>NaN</td>\n",
       "      <td>2.0</td>\n",
       "    </tr>\n",
       "  </tbody>\n",
       "</table>\n",
       "</div>"
      ],
      "text/plain": [
       "      Condition Strain   N      mean       std  median    0    1     2    3  \\\n",
       "0           YPD   116A  12  0.833333  0.717741     1.0  4.0  6.0   2.0  NaN   \n",
       "1    0.5 M NaCl   116A  12  2.250000  0.621582     2.0  NaN  NaN  10.0  1.0   \n",
       "2     0.5 M KCl   116A   6  1.500000  1.974842     0.5  3.0  1.0   NaN  NaN   \n",
       "3  1 M sorbitol   116A   6  1.500000  1.974842     0.5  3.0  1.0   NaN  NaN   \n",
       "\n",
       "     4  \n",
       "0  NaN  \n",
       "1  1.0  \n",
       "2  2.0  \n",
       "3  2.0  "
      ]
     },
     "execution_count": 72,
     "metadata": {},
     "output_type": "execute_result"
    }
   ],
   "source": [
    "summary"
   ]
  },
  {
   "cell_type": "code",
   "execution_count": 23,
   "metadata": {
    "collapsed": true
   },
   "outputs": [],
   "source": [
    "strain_summary = pd.read_csv('/Users/nwespe/Dropbox/Research - Data/PG HU Experiments/HU_survival_summary.csv', converters ={'Strain': lambda x: str(x)})"
   ]
  },
  {
   "cell_type": "code",
   "execution_count": 24,
   "metadata": {
    "collapsed": false
   },
   "outputs": [
    {
     "data": {
      "text/html": [
       "<div>\n",
       "<table border=\"1\" class=\"dataframe\">\n",
       "  <thead>\n",
       "    <tr style=\"text-align: right;\">\n",
       "      <th></th>\n",
       "      <th>Unnamed: 0</th>\n",
       "      <th>Condition</th>\n",
       "      <th>sum</th>\n",
       "      <th>mean</th>\n",
       "      <th>std</th>\n",
       "      <th>median</th>\n",
       "      <th>mode</th>\n",
       "      <th>N</th>\n",
       "      <th>Strain</th>\n",
       "    </tr>\n",
       "  </thead>\n",
       "  <tbody>\n",
       "    <tr>\n",
       "      <th>0</th>\n",
       "      <td>0</td>\n",
       "      <td>YPD</td>\n",
       "      <td>2</td>\n",
       "      <td>0.142857</td>\n",
       "      <td>0.363137</td>\n",
       "      <td>0.0</td>\n",
       "      <td>ModeResult(mode=array([0]), count=array([12]))</td>\n",
       "      <td>14</td>\n",
       "      <td>034A</td>\n",
       "    </tr>\n",
       "    <tr>\n",
       "      <th>1</th>\n",
       "      <td>1</td>\n",
       "      <td>0.5 M NaCl</td>\n",
       "      <td>52</td>\n",
       "      <td>3.714286</td>\n",
       "      <td>0.611250</td>\n",
       "      <td>4.0</td>\n",
       "      <td>ModeResult(mode=array([4]), count=array([11]))</td>\n",
       "      <td>14</td>\n",
       "      <td>034A</td>\n",
       "    </tr>\n",
       "    <tr>\n",
       "      <th>2</th>\n",
       "      <td>2</td>\n",
       "      <td>0.5 M KCl</td>\n",
       "      <td>1</td>\n",
       "      <td>0.166667</td>\n",
       "      <td>0.408248</td>\n",
       "      <td>0.0</td>\n",
       "      <td>ModeResult(mode=array([0]), count=array([5]))</td>\n",
       "      <td>6</td>\n",
       "      <td>034A</td>\n",
       "    </tr>\n",
       "    <tr>\n",
       "      <th>3</th>\n",
       "      <td>3</td>\n",
       "      <td>1 M sorbitol</td>\n",
       "      <td>1</td>\n",
       "      <td>0.166667</td>\n",
       "      <td>0.408248</td>\n",
       "      <td>0.0</td>\n",
       "      <td>ModeResult(mode=array([0]), count=array([5]))</td>\n",
       "      <td>6</td>\n",
       "      <td>034A</td>\n",
       "    </tr>\n",
       "  </tbody>\n",
       "</table>\n",
       "</div>"
      ],
      "text/plain": [
       "   Unnamed: 0     Condition  sum      mean       std  median  \\\n",
       "0           0           YPD    2  0.142857  0.363137     0.0   \n",
       "1           1    0.5 M NaCl   52  3.714286  0.611250     4.0   \n",
       "2           2     0.5 M KCl    1  0.166667  0.408248     0.0   \n",
       "3           3  1 M sorbitol    1  0.166667  0.408248     0.0   \n",
       "\n",
       "                                             mode   N Strain  \n",
       "0  ModeResult(mode=array([0]), count=array([12]))  14   034A  \n",
       "1  ModeResult(mode=array([4]), count=array([11]))  14   034A  \n",
       "2   ModeResult(mode=array([0]), count=array([5]))   6   034A  \n",
       "3   ModeResult(mode=array([0]), count=array([5]))   6   034A  "
      ]
     },
     "execution_count": 24,
     "metadata": {},
     "output_type": "execute_result"
    }
   ],
   "source": [
    "strain_summary[:4]"
   ]
  },
  {
   "cell_type": "code",
   "execution_count": 25,
   "metadata": {
    "collapsed": false
   },
   "outputs": [
    {
     "data": {
      "text/plain": [
       "<seaborn.axisgrid.FacetGrid at 0x11d4184d0>"
      ]
     },
     "execution_count": 25,
     "metadata": {},
     "output_type": "execute_result"
    },
    {
     "data": {
      "image/png": "[encoded data removed]",
      "text/plain": [
       "<matplotlib.figure.Figure at 0x11d3ee190>"
      ]
     },
     "metadata": {},
     "output_type": "display_data"
    }
   ],
   "source": [
    "p = sns.factorplot(x='Condition', y='mean', hue='Strain', data=strain_summary, legend=False\n",
    "                   )\n",
    "(p.set(ylim=(0,4.5)))"
   ]
  },
  {
   "cell_type": "code",
   "execution_count": 26,
   "metadata": {
    "collapsed": false
   },
   "outputs": [],
   "source": [
    "def category(mean):\n",
    "    if mean < 1:\n",
    "        category = '-'\n",
    "    elif mean < 2:\n",
    "        category = '+'\n",
    "    elif mean < 3:\n",
    "        category = '++'\n",
    "    else:\n",
    "        category = '+++'\n",
    "    return category"
   ]
  },
  {
   "cell_type": "code",
   "execution_count": 27,
   "metadata": {
    "collapsed": true
   },
   "outputs": [],
   "source": [
    "strain_summary['Survival'] = strain_summary['mean'].apply(category)"
   ]
  },
  {
   "cell_type": "code",
   "execution_count": 28,
   "metadata": {
    "collapsed": false
   },
   "outputs": [
    {
     "data": {
      "text/html": [
       "<div>\n",
       "<table border=\"1\" class=\"dataframe\">\n",
       "  <thead>\n",
       "    <tr style=\"text-align: right;\">\n",
       "      <th></th>\n",
       "      <th>Unnamed: 0</th>\n",
       "      <th>Condition</th>\n",
       "      <th>sum</th>\n",
       "      <th>mean</th>\n",
       "      <th>std</th>\n",
       "      <th>median</th>\n",
       "      <th>mode</th>\n",
       "      <th>N</th>\n",
       "      <th>Strain</th>\n",
       "      <th>Survival</th>\n",
       "    </tr>\n",
       "  </thead>\n",
       "  <tbody>\n",
       "    <tr>\n",
       "      <th>0</th>\n",
       "      <td>0</td>\n",
       "      <td>YPD</td>\n",
       "      <td>2</td>\n",
       "      <td>0.142857</td>\n",
       "      <td>0.363137</td>\n",
       "      <td>0.0</td>\n",
       "      <td>ModeResult(mode=array([0]), count=array([12]))</td>\n",
       "      <td>14</td>\n",
       "      <td>034A</td>\n",
       "      <td>-</td>\n",
       "    </tr>\n",
       "    <tr>\n",
       "      <th>1</th>\n",
       "      <td>1</td>\n",
       "      <td>0.5 M NaCl</td>\n",
       "      <td>52</td>\n",
       "      <td>3.714286</td>\n",
       "      <td>0.611250</td>\n",
       "      <td>4.0</td>\n",
       "      <td>ModeResult(mode=array([4]), count=array([11]))</td>\n",
       "      <td>14</td>\n",
       "      <td>034A</td>\n",
       "      <td>+++</td>\n",
       "    </tr>\n",
       "    <tr>\n",
       "      <th>2</th>\n",
       "      <td>2</td>\n",
       "      <td>0.5 M KCl</td>\n",
       "      <td>1</td>\n",
       "      <td>0.166667</td>\n",
       "      <td>0.408248</td>\n",
       "      <td>0.0</td>\n",
       "      <td>ModeResult(mode=array([0]), count=array([5]))</td>\n",
       "      <td>6</td>\n",
       "      <td>034A</td>\n",
       "      <td>-</td>\n",
       "    </tr>\n",
       "    <tr>\n",
       "      <th>3</th>\n",
       "      <td>3</td>\n",
       "      <td>1 M sorbitol</td>\n",
       "      <td>1</td>\n",
       "      <td>0.166667</td>\n",
       "      <td>0.408248</td>\n",
       "      <td>0.0</td>\n",
       "      <td>ModeResult(mode=array([0]), count=array([5]))</td>\n",
       "      <td>6</td>\n",
       "      <td>034A</td>\n",
       "      <td>-</td>\n",
       "    </tr>\n",
       "    <tr>\n",
       "      <th>4</th>\n",
       "      <td>0</td>\n",
       "      <td>YPD</td>\n",
       "      <td>1</td>\n",
       "      <td>0.166667</td>\n",
       "      <td>0.408248</td>\n",
       "      <td>0.0</td>\n",
       "      <td>ModeResult(mode=array([0]), count=array([5]))</td>\n",
       "      <td>6</td>\n",
       "      <td>100</td>\n",
       "      <td>-</td>\n",
       "    </tr>\n",
       "  </tbody>\n",
       "</table>\n",
       "</div>"
      ],
      "text/plain": [
       "   Unnamed: 0     Condition  sum      mean       std  median  \\\n",
       "0           0           YPD    2  0.142857  0.363137     0.0   \n",
       "1           1    0.5 M NaCl   52  3.714286  0.611250     4.0   \n",
       "2           2     0.5 M KCl    1  0.166667  0.408248     0.0   \n",
       "3           3  1 M sorbitol    1  0.166667  0.408248     0.0   \n",
       "4           0           YPD    1  0.166667  0.408248     0.0   \n",
       "\n",
       "                                             mode   N Strain Survival  \n",
       "0  ModeResult(mode=array([0]), count=array([12]))  14   034A        -  \n",
       "1  ModeResult(mode=array([4]), count=array([11]))  14   034A      +++  \n",
       "2   ModeResult(mode=array([0]), count=array([5]))   6   034A        -  \n",
       "3   ModeResult(mode=array([0]), count=array([5]))   6   034A        -  \n",
       "4   ModeResult(mode=array([0]), count=array([5]))   6    100        -  "
      ]
     },
     "execution_count": 28,
     "metadata": {},
     "output_type": "execute_result"
    }
   ],
   "source": [
    "strain_summary[:5]"
   ]
  },
  {
   "cell_type": "code",
   "execution_count": null,
   "metadata": {
    "collapsed": true
   },
   "outputs": [],
   "source": [
    ""
   ]
  }
 ],
 "metadata": {
  "kernelspec": {
   "display_name": "Python 2",
   "language": "python",
   "name": "python2"
  },
  "language_info": {
   "codemirror_mode": {
    "name": "ipython",
    "version": 2.0
   },
   "file_extension": ".py",
   "mimetype": "text/x-python",
   "name": "python",
   "nbconvert_exporter": "python",
   "pygments_lexer": "ipython2",
   "version": "2.7.11"
  }
 },
 "nbformat": 4,
 "nbformat_minor": 0
}